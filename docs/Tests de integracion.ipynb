{
 "cells": [
  {
   "cell_type": "markdown",
   "metadata": {},
   "source": [
    "# Tests de funcionalidad de la API de series de tiempo"
   ]
  },
  {
   "cell_type": "code",
   "execution_count": 4,
   "metadata": {},
   "outputs": [],
   "source": [
    "import os\n",
    "import pandas as pd\n",
    "import numpy as np\n",
    "import requests\n",
    "from io import StringIO"
   ]
  },
  {
   "cell_type": "markdown",
   "metadata": {},
   "source": [
    "## Variables\n",
    "\n",
    "**Obligatorio**: setear la variable de entorno API_URL o setear la variable BASE_URL al ambiente de la API que se quiere probar"
   ]
  },
  {
   "cell_type": "code",
   "execution_count": 5,
   "metadata": {},
   "outputs": [],
   "source": [
    "BASE_URL = None\n",
    "METADATA_URL = 'http://infra.datos.gob.ar/catalog/modernizacion/dataset/1/distribution/1.2/download/series-tiempo-metadatos.csv'\n",
    "ENDPOINT_URL = BASE_URL + 'series/api/series/'"
   ]
  },
  {
   "cell_type": "code",
   "execution_count": 6,
   "metadata": {},
   "outputs": [
    {
     "data": {
      "text/html": [
       "<div>\n",
       "<style scoped>\n",
       "    .dataframe tbody tr th:only-of-type {\n",
       "        vertical-align: middle;\n",
       "    }\n",
       "\n",
       "    .dataframe tbody tr th {\n",
       "        vertical-align: top;\n",
       "    }\n",
       "\n",
       "    .dataframe thead th {\n",
       "        text-align: right;\n",
       "    }\n",
       "</style>\n",
       "<table border=\"1\" class=\"dataframe\">\n",
       "  <thead>\n",
       "    <tr style=\"text-align: right;\">\n",
       "      <th></th>\n",
       "      <th>catalogo_id</th>\n",
       "      <th>dataset_id</th>\n",
       "      <th>distribucion_id</th>\n",
       "      <th>serie_id</th>\n",
       "      <th>indice_tiempo_frecuencia</th>\n",
       "      <th>serie_titulo</th>\n",
       "      <th>serie_unidades</th>\n",
       "      <th>serie_descripcion</th>\n",
       "      <th>distribucion_titulo</th>\n",
       "      <th>distribucion_descripcion</th>\n",
       "      <th>...</th>\n",
       "      <th>dataset_descripcion</th>\n",
       "      <th>dataset_tema</th>\n",
       "      <th>serie_indice_inicio</th>\n",
       "      <th>serie_indice_final</th>\n",
       "      <th>serie_valores_cant</th>\n",
       "      <th>serie_dias_no_cubiertos</th>\n",
       "      <th>serie_actualizada</th>\n",
       "      <th>serie_valor_ultimo</th>\n",
       "      <th>serie_valor_anterior</th>\n",
       "      <th>serie_var_pct_anterior</th>\n",
       "    </tr>\n",
       "  </thead>\n",
       "  <tbody>\n",
       "    <tr>\n",
       "      <th>20190</th>\n",
       "      <td>sspm</td>\n",
       "      <td>99</td>\n",
       "      <td>99.3</td>\n",
       "      <td>99.3_ING_2008_0_17</td>\n",
       "      <td>R/P1M</td>\n",
       "      <td>ipc_nivel_general</td>\n",
       "      <td>Índice abr-2008=100</td>\n",
       "      <td>Índice de precios al consumidor nivel general....</td>\n",
       "      <td>Índice de Precios al Consumidor, por grupos. D...</td>\n",
       "      <td>Índice de Precios al Consumidor. Apertura por ...</td>\n",
       "      <td>...</td>\n",
       "      <td>Índice de Precios al Consumidor. Apertura por ...</td>\n",
       "      <td>Precios</td>\n",
       "      <td>2006-12-01</td>\n",
       "      <td>2013-12-01</td>\n",
       "      <td>85</td>\n",
       "      <td>1634</td>\n",
       "      <td>False</td>\n",
       "      <td>166.840000</td>\n",
       "      <td>164.510000</td>\n",
       "      <td>0.014163</td>\n",
       "    </tr>\n",
       "    <tr>\n",
       "      <th>20191</th>\n",
       "      <td>sspm</td>\n",
       "      <td>99</td>\n",
       "      <td>99.3</td>\n",
       "      <td>99.3_IR_2008_0_13</td>\n",
       "      <td>R/P1M</td>\n",
       "      <td>ipc_regulados</td>\n",
       "      <td>Índice abr-2008=100</td>\n",
       "      <td>Índice de precios al consumidor regulados. Val...</td>\n",
       "      <td>Índice de Precios al Consumidor, por grupos. D...</td>\n",
       "      <td>Índice de Precios al Consumidor. Apertura por ...</td>\n",
       "      <td>...</td>\n",
       "      <td>Índice de Precios al Consumidor. Apertura por ...</td>\n",
       "      <td>Precios</td>\n",
       "      <td>2006-12-01</td>\n",
       "      <td>2013-12-01</td>\n",
       "      <td>85</td>\n",
       "      <td>1634</td>\n",
       "      <td>False</td>\n",
       "      <td>161.040000</td>\n",
       "      <td>159.290000</td>\n",
       "      <td>0.010986</td>\n",
       "    </tr>\n",
       "    <tr>\n",
       "      <th>20192</th>\n",
       "      <td>sspm</td>\n",
       "      <td>99</td>\n",
       "      <td>99.3</td>\n",
       "      <td>99.3_IR_2008_0_9</td>\n",
       "      <td>R/P1M</td>\n",
       "      <td>ipc_resto</td>\n",
       "      <td>Índice abr-2008=100</td>\n",
       "      <td>Índice de precios al consumidor IPC resto. Val...</td>\n",
       "      <td>Índice de Precios al Consumidor, por grupos. D...</td>\n",
       "      <td>Índice de Precios al Consumidor. Apertura por ...</td>\n",
       "      <td>...</td>\n",
       "      <td>Índice de Precios al Consumidor. Apertura por ...</td>\n",
       "      <td>Precios</td>\n",
       "      <td>2006-12-01</td>\n",
       "      <td>2013-12-01</td>\n",
       "      <td>85</td>\n",
       "      <td>1634</td>\n",
       "      <td>False</td>\n",
       "      <td>161.740000</td>\n",
       "      <td>159.250000</td>\n",
       "      <td>0.015636</td>\n",
       "    </tr>\n",
       "    <tr>\n",
       "      <th>20193</th>\n",
       "      <td>sspm</td>\n",
       "      <td>99</td>\n",
       "      <td>99.3</td>\n",
       "      <td>99.3_PREIR_2008_0_40</td>\n",
       "      <td>R/P1M</td>\n",
       "      <td>precios_relativos_estacionales_ipc_resto</td>\n",
       "      <td>Índice abr-2008=100</td>\n",
       "      <td>Índice de precios al consumidor precios relati...</td>\n",
       "      <td>Índice de Precios al Consumidor, por grupos. D...</td>\n",
       "      <td>Índice de Precios al Consumidor. Apertura por ...</td>\n",
       "      <td>...</td>\n",
       "      <td>Índice de Precios al Consumidor. Apertura por ...</td>\n",
       "      <td>Precios</td>\n",
       "      <td>2006-12-01</td>\n",
       "      <td>2013-12-01</td>\n",
       "      <td>85</td>\n",
       "      <td>1634</td>\n",
       "      <td>False</td>\n",
       "      <td>137.591196</td>\n",
       "      <td>138.411303</td>\n",
       "      <td>-0.005925</td>\n",
       "    </tr>\n",
       "    <tr>\n",
       "      <th>20194</th>\n",
       "      <td>sspm</td>\n",
       "      <td>99</td>\n",
       "      <td>99.3</td>\n",
       "      <td>99.3_PRRIR_2008_0_37</td>\n",
       "      <td>R/P1M</td>\n",
       "      <td>precios_relativos_regulados_ipc_resto</td>\n",
       "      <td>Índice abr-2008=100</td>\n",
       "      <td>Índice de precios al consumidor precios relati...</td>\n",
       "      <td>Índice de Precios al Consumidor, por grupos. D...</td>\n",
       "      <td>Índice de Precios al Consumidor. Apertura por ...</td>\n",
       "      <td>...</td>\n",
       "      <td>Índice de Precios al Consumidor. Apertura por ...</td>\n",
       "      <td>Precios</td>\n",
       "      <td>2006-12-01</td>\n",
       "      <td>2013-12-01</td>\n",
       "      <td>85</td>\n",
       "      <td>1634</td>\n",
       "      <td>False</td>\n",
       "      <td>99.567207</td>\n",
       "      <td>100.025118</td>\n",
       "      <td>-0.004578</td>\n",
       "    </tr>\n",
       "  </tbody>\n",
       "</table>\n",
       "<p>5 rows × 24 columns</p>\n",
       "</div>"
      ],
      "text/plain": [
       "      catalogo_id  dataset_id  distribucion_id              serie_id  \\\n",
       "20190        sspm          99             99.3    99.3_ING_2008_0_17   \n",
       "20191        sspm          99             99.3     99.3_IR_2008_0_13   \n",
       "20192        sspm          99             99.3      99.3_IR_2008_0_9   \n",
       "20193        sspm          99             99.3  99.3_PREIR_2008_0_40   \n",
       "20194        sspm          99             99.3  99.3_PRRIR_2008_0_37   \n",
       "\n",
       "      indice_tiempo_frecuencia                              serie_titulo  \\\n",
       "20190                    R/P1M                         ipc_nivel_general   \n",
       "20191                    R/P1M                             ipc_regulados   \n",
       "20192                    R/P1M                                 ipc_resto   \n",
       "20193                    R/P1M  precios_relativos_estacionales_ipc_resto   \n",
       "20194                    R/P1M     precios_relativos_regulados_ipc_resto   \n",
       "\n",
       "            serie_unidades                                  serie_descripcion  \\\n",
       "20190  Índice abr-2008=100  Índice de precios al consumidor nivel general....   \n",
       "20191  Índice abr-2008=100  Índice de precios al consumidor regulados. Val...   \n",
       "20192  Índice abr-2008=100  Índice de precios al consumidor IPC resto. Val...   \n",
       "20193  Índice abr-2008=100  Índice de precios al consumidor precios relati...   \n",
       "20194  Índice abr-2008=100  Índice de precios al consumidor precios relati...   \n",
       "\n",
       "                                     distribucion_titulo  \\\n",
       "20190  Índice de Precios al Consumidor, por grupos. D...   \n",
       "20191  Índice de Precios al Consumidor, por grupos. D...   \n",
       "20192  Índice de Precios al Consumidor, por grupos. D...   \n",
       "20193  Índice de Precios al Consumidor, por grupos. D...   \n",
       "20194  Índice de Precios al Consumidor, por grupos. D...   \n",
       "\n",
       "                                distribucion_descripcion  \\\n",
       "20190  Índice de Precios al Consumidor. Apertura por ...   \n",
       "20191  Índice de Precios al Consumidor. Apertura por ...   \n",
       "20192  Índice de Precios al Consumidor. Apertura por ...   \n",
       "20193  Índice de Precios al Consumidor. Apertura por ...   \n",
       "20194  Índice de Precios al Consumidor. Apertura por ...   \n",
       "\n",
       "                ...            \\\n",
       "20190           ...             \n",
       "20191           ...             \n",
       "20192           ...             \n",
       "20193           ...             \n",
       "20194           ...             \n",
       "\n",
       "                                     dataset_descripcion dataset_tema  \\\n",
       "20190  Índice de Precios al Consumidor. Apertura por ...      Precios   \n",
       "20191  Índice de Precios al Consumidor. Apertura por ...      Precios   \n",
       "20192  Índice de Precios al Consumidor. Apertura por ...      Precios   \n",
       "20193  Índice de Precios al Consumidor. Apertura por ...      Precios   \n",
       "20194  Índice de Precios al Consumidor. Apertura por ...      Precios   \n",
       "\n",
       "      serie_indice_inicio serie_indice_final serie_valores_cant  \\\n",
       "20190          2006-12-01         2013-12-01                 85   \n",
       "20191          2006-12-01         2013-12-01                 85   \n",
       "20192          2006-12-01         2013-12-01                 85   \n",
       "20193          2006-12-01         2013-12-01                 85   \n",
       "20194          2006-12-01         2013-12-01                 85   \n",
       "\n",
       "      serie_dias_no_cubiertos serie_actualizada serie_valor_ultimo  \\\n",
       "20190                    1634             False         166.840000   \n",
       "20191                    1634             False         161.040000   \n",
       "20192                    1634             False         161.740000   \n",
       "20193                    1634             False         137.591196   \n",
       "20194                    1634             False          99.567207   \n",
       "\n",
       "       serie_valor_anterior  serie_var_pct_anterior  \n",
       "20190            164.510000                0.014163  \n",
       "20191            159.290000                0.010986  \n",
       "20192            159.250000                0.015636  \n",
       "20193            138.411303               -0.005925  \n",
       "20194            100.025118               -0.004578  \n",
       "\n",
       "[5 rows x 24 columns]"
      ]
     },
     "execution_count": 6,
     "metadata": {},
     "output_type": "execute_result"
    }
   ],
   "source": [
    "series_metadata = pd.read_csv(METADATA_URL)\n",
    "series_metadata.tail(5)"
   ]
  },
  {
   "cell_type": "code",
   "execution_count": 7,
   "metadata": {
    "scrolled": true
   },
   "outputs": [
    {
     "data": {
      "text/plain": [
       "20195"
      ]
     },
     "execution_count": 7,
     "metadata": {},
     "output_type": "execute_result"
    }
   ],
   "source": [
    "series_metadata.serie_id.count()"
   ]
  },
  {
   "cell_type": "markdown",
   "metadata": {},
   "source": [
    "## Chequeo de todas las series \n",
    "\n",
    "Le pegamos al endpoint para todas las series y verificamos que la API devuelve una respuesta satisfactoria (status code 200). Contamos la cantidad de casos satisfactorios (True) y no (False)"
   ]
  },
  {
   "cell_type": "code",
   "execution_count": 8,
   "metadata": {},
   "outputs": [],
   "source": [
    "def api_series_head(serie_id):\n",
    "    return requests.head(ENDPOINT_URL, params={'ids': serie_id}).status_code == 200"
   ]
  },
  {
   "cell_type": "markdown",
   "metadata": {},
   "source": [
    "### Cantidad de respuestas válidas"
   ]
  },
  {
   "cell_type": "code",
   "execution_count": 9,
   "metadata": {
    "scrolled": false
   },
   "outputs": [
    {
     "data": {
      "text/plain": [
       "True    10\n",
       "Name: serie_id, dtype: int64"
      ]
     },
     "execution_count": 9,
     "metadata": {},
     "output_type": "execute_result"
    }
   ],
   "source": [
    "valid_responses = series_metadata.serie_id[:10].apply(api_series_head)\n",
    "valid_responses.value_counts()"
   ]
  },
  {
   "cell_type": "markdown",
   "metadata": {},
   "source": [
    "### En porcentajes"
   ]
  },
  {
   "cell_type": "code",
   "execution_count": 10,
   "metadata": {},
   "outputs": [
    {
     "data": {
      "text/plain": [
       "True    1.0\n",
       "Name: serie_id, dtype: float64"
      ]
     },
     "execution_count": 10,
     "metadata": {},
     "output_type": "execute_result"
    }
   ],
   "source": [
    "valid_responses.value_counts().apply(lambda x: x/len(valid_responses))"
   ]
  },
  {
   "cell_type": "markdown",
   "metadata": {},
   "source": [
    "## Chequeo de modos de representación"
   ]
  },
  {
   "cell_type": "code",
   "execution_count": 11,
   "metadata": {},
   "outputs": [],
   "source": [
    "def api_call(serie, limit=1000, **kwargs):\n",
    "    call_params = {'ids': serie, 'format': 'csv', 'limit': limit}\n",
    "    call_params.update(kwargs)\n",
    "    csv = StringIO(requests.get(ENDPOINT_URL, params=call_params).content.decode('utf8'))\n",
    "    api_csv = pd.read_csv(csv, parse_dates=['indice_tiempo'], index_col='indice_tiempo')\n",
    "\n",
    "    return api_csv\n",
    "\n",
    "def get_source_csv(serie):\n",
    "    response = requests.get(ENDPOINT_URL, params={'ids': serie, 'metadata': 'only'}).json()\n",
    "    distribution_url = response['meta'][1]['distribution']['downloadURL']\n",
    "    title = response['meta'][1]['field']['title']\n",
    "    orig_csv = pd.read_csv(distribution_url, parse_dates=['indice_tiempo'], index_col='indice_tiempo')\n",
    "\n",
    "    return orig_csv, title"
   ]
  },
  {
   "cell_type": "code",
   "execution_count": 12,
   "metadata": {
    "scrolled": true
   },
   "outputs": [
    {
     "data": {
      "text/plain": [
       "'375.4_GTOS_CAP_T006__32_51'"
      ]
     },
     "execution_count": 12,
     "metadata": {},
     "output_type": "execute_result"
    }
   ],
   "source": [
    "serie = series_metadata.serie_id.sample(1)\n",
    "\n",
    "serie_idx = serie.index[0]\n",
    "serie = serie.values[0]\n",
    "serie"
   ]
  },
  {
   "cell_type": "markdown",
   "metadata": {},
   "source": [
    "### Serie original"
   ]
  },
  {
   "cell_type": "code",
   "execution_count": 13,
   "metadata": {
    "scrolled": true
   },
   "outputs": [],
   "source": [
    "orig_csv, title = get_source_csv(serie)"
   ]
  },
  {
   "cell_type": "markdown",
   "metadata": {},
   "source": [
    "### Serie de la API: valor original"
   ]
  },
  {
   "cell_type": "code",
   "execution_count": 14,
   "metadata": {},
   "outputs": [
    {
     "data": {
      "text/html": [
       "<div>\n",
       "<style scoped>\n",
       "    .dataframe tbody tr th:only-of-type {\n",
       "        vertical-align: middle;\n",
       "    }\n",
       "\n",
       "    .dataframe tbody tr th {\n",
       "        vertical-align: top;\n",
       "    }\n",
       "\n",
       "    .dataframe thead th {\n",
       "        text-align: right;\n",
       "    }\n",
       "</style>\n",
       "<table border=\"1\" class=\"dataframe\">\n",
       "  <thead>\n",
       "    <tr style=\"text-align: right;\">\n",
       "      <th></th>\n",
       "      <th>gtos_cap_transf_cap_ot_1993_2006</th>\n",
       "    </tr>\n",
       "    <tr>\n",
       "      <th>indice_tiempo</th>\n",
       "      <th></th>\n",
       "    </tr>\n",
       "  </thead>\n",
       "  <tbody>\n",
       "    <tr>\n",
       "      <th>1993-01-01</th>\n",
       "      <td>11.9</td>\n",
       "    </tr>\n",
       "  </tbody>\n",
       "</table>\n",
       "</div>"
      ],
      "text/plain": [
       "               gtos_cap_transf_cap_ot_1993_2006\n",
       "indice_tiempo                                  \n",
       "1993-01-01                                 11.9"
      ]
     },
     "execution_count": 14,
     "metadata": {},
     "output_type": "execute_result"
    }
   ],
   "source": [
    "api_csv = api_call(serie)\n",
    "\n",
    "api_csv.head(1)"
   ]
  },
  {
   "cell_type": "code",
   "execution_count": 15,
   "metadata": {
    "scrolled": true
   },
   "outputs": [
    {
     "data": {
      "text/plain": [
       "True    56\n",
       "dtype: int64"
      ]
     },
     "execution_count": 15,
     "metadata": {},
     "output_type": "execute_result"
    }
   ],
   "source": [
    "orig_csv = orig_csv[:len(api_csv)]\n",
    "equality_check = np.isclose(orig_csv[title], api_csv[title], equal_nan=True)\n",
    "equal_df = pd.Series(equality_check)\n",
    "\n",
    "equal_df.value_counts()"
   ]
  },
  {
   "cell_type": "markdown",
   "metadata": {},
   "source": [
    "### Cambio absoluto"
   ]
  },
  {
   "cell_type": "code",
   "execution_count": 16,
   "metadata": {},
   "outputs": [],
   "source": [
    "api_csv = api_call(serie, representation_mode='change')"
   ]
  },
  {
   "cell_type": "code",
   "execution_count": 17,
   "metadata": {},
   "outputs": [],
   "source": [
    "orig_csv_change, title = get_source_csv(serie)\n",
    "orig_csv_change[title] = orig_csv_change[title].diff(1)\n",
    "orig_csv_change = orig_csv_change[:len(api_csv)]"
   ]
  },
  {
   "cell_type": "code",
   "execution_count": 18,
   "metadata": {},
   "outputs": [
    {
     "data": {
      "text/plain": [
       "True    56\n",
       "dtype: int64"
      ]
     },
     "execution_count": 18,
     "metadata": {},
     "output_type": "execute_result"
    }
   ],
   "source": [
    "equality_check = np.isclose(orig_csv_change[title], api_csv[title], equal_nan=True)\n",
    "equal_df = pd.Series(equality_check)\n",
    "\n",
    "equal_df.value_counts()"
   ]
  },
  {
   "cell_type": "markdown",
   "metadata": {},
   "source": [
    "### Cambio porcentual"
   ]
  },
  {
   "cell_type": "code",
   "execution_count": 19,
   "metadata": {},
   "outputs": [],
   "source": [
    "api_csv = api_call(serie, representation_mode='percent_change')"
   ]
  },
  {
   "cell_type": "code",
   "execution_count": 20,
   "metadata": {},
   "outputs": [],
   "source": [
    "orig_csv_pct_change, title = get_source_csv(serie)\n",
    "orig_csv_pct_change[title] = orig_csv_pct_change[title].pct_change()\n",
    "orig_csv_pct_change = orig_csv_pct_change[:len(api_csv)]"
   ]
  },
  {
   "cell_type": "code",
   "execution_count": 21,
   "metadata": {
    "scrolled": true
   },
   "outputs": [
    {
     "data": {
      "text/plain": [
       "True    56\n",
       "dtype: int64"
      ]
     },
     "execution_count": 21,
     "metadata": {},
     "output_type": "execute_result"
    }
   ],
   "source": [
    "equality_check = np.isclose(orig_csv_pct_change[title], api_csv[title], equal_nan=True)\n",
    "equal_df = pd.Series(equality_check)\n",
    "\n",
    "equal_df.value_counts()"
   ]
  },
  {
   "cell_type": "markdown",
   "metadata": {},
   "source": [
    "### Colapsos de datos\n",
    "\n",
    "Aplico las agregaciones máximo y mínimos de la API, y también al CSV original con pandas. Comparo los resultados"
   ]
  },
  {
   "cell_type": "code",
   "execution_count": 22,
   "metadata": {},
   "outputs": [
    {
     "data": {
      "text/html": [
       "<div>\n",
       "<style scoped>\n",
       "    .dataframe tbody tr th:only-of-type {\n",
       "        vertical-align: middle;\n",
       "    }\n",
       "\n",
       "    .dataframe tbody tr th {\n",
       "        vertical-align: top;\n",
       "    }\n",
       "\n",
       "    .dataframe thead th {\n",
       "        text-align: right;\n",
       "    }\n",
       "</style>\n",
       "<table border=\"1\" class=\"dataframe\">\n",
       "  <thead>\n",
       "    <tr style=\"text-align: right;\">\n",
       "      <th></th>\n",
       "      <th>gtos_cap_transf_cap_ot_1993_2006</th>\n",
       "      <th>api_max</th>\n",
       "    </tr>\n",
       "    <tr>\n",
       "      <th>indice_tiempo</th>\n",
       "      <th></th>\n",
       "      <th></th>\n",
       "    </tr>\n",
       "  </thead>\n",
       "  <tbody>\n",
       "    <tr>\n",
       "      <th>1993-01-01</th>\n",
       "      <td>16.0</td>\n",
       "      <td>16.0</td>\n",
       "    </tr>\n",
       "    <tr>\n",
       "      <th>1994-01-01</th>\n",
       "      <td>14.0</td>\n",
       "      <td>14.0</td>\n",
       "    </tr>\n",
       "    <tr>\n",
       "      <th>1995-01-01</th>\n",
       "      <td>33.7</td>\n",
       "      <td>33.7</td>\n",
       "    </tr>\n",
       "    <tr>\n",
       "      <th>1996-01-01</th>\n",
       "      <td>7.7</td>\n",
       "      <td>7.7</td>\n",
       "    </tr>\n",
       "    <tr>\n",
       "      <th>1997-01-01</th>\n",
       "      <td>21.4</td>\n",
       "      <td>21.4</td>\n",
       "    </tr>\n",
       "    <tr>\n",
       "      <th>1998-01-01</th>\n",
       "      <td>19.1</td>\n",
       "      <td>19.1</td>\n",
       "    </tr>\n",
       "    <tr>\n",
       "      <th>1999-01-01</th>\n",
       "      <td>16.5</td>\n",
       "      <td>16.5</td>\n",
       "    </tr>\n",
       "    <tr>\n",
       "      <th>2000-01-01</th>\n",
       "      <td>14.6</td>\n",
       "      <td>14.6</td>\n",
       "    </tr>\n",
       "    <tr>\n",
       "      <th>2001-01-01</th>\n",
       "      <td>9.6</td>\n",
       "      <td>9.6</td>\n",
       "    </tr>\n",
       "    <tr>\n",
       "      <th>2002-01-01</th>\n",
       "      <td>2.3</td>\n",
       "      <td>2.3</td>\n",
       "    </tr>\n",
       "    <tr>\n",
       "      <th>2003-01-01</th>\n",
       "      <td>4.1</td>\n",
       "      <td>4.1</td>\n",
       "    </tr>\n",
       "    <tr>\n",
       "      <th>2004-01-01</th>\n",
       "      <td>6.6</td>\n",
       "      <td>6.6</td>\n",
       "    </tr>\n",
       "    <tr>\n",
       "      <th>2005-01-01</th>\n",
       "      <td>10.0</td>\n",
       "      <td>10.0</td>\n",
       "    </tr>\n",
       "    <tr>\n",
       "      <th>2006-01-01</th>\n",
       "      <td>17.7</td>\n",
       "      <td>17.7</td>\n",
       "    </tr>\n",
       "  </tbody>\n",
       "</table>\n",
       "</div>"
      ],
      "text/plain": [
       "               gtos_cap_transf_cap_ot_1993_2006  api_max\n",
       "indice_tiempo                                           \n",
       "1993-01-01                                 16.0     16.0\n",
       "1994-01-01                                 14.0     14.0\n",
       "1995-01-01                                 33.7     33.7\n",
       "1996-01-01                                  7.7      7.7\n",
       "1997-01-01                                 21.4     21.4\n",
       "1998-01-01                                 19.1     19.1\n",
       "1999-01-01                                 16.5     16.5\n",
       "2000-01-01                                 14.6     14.6\n",
       "2001-01-01                                  9.6      9.6\n",
       "2002-01-01                                  2.3      2.3\n",
       "2003-01-01                                  4.1      4.1\n",
       "2004-01-01                                  6.6      6.6\n",
       "2005-01-01                                 10.0     10.0\n",
       "2006-01-01                                 17.7     17.7"
      ]
     },
     "execution_count": 22,
     "metadata": {},
     "output_type": "execute_result"
    }
   ],
   "source": [
    "api_max = api_call(serie, collapse='year', collapse_aggregation='max')\n",
    "api_max['api_max'] = api_max[title]\n",
    "del api_max[title]\n",
    "api_call(serie).resample('AS').apply(max).join(api_max)"
   ]
  },
  {
   "cell_type": "code",
   "execution_count": 23,
   "metadata": {},
   "outputs": [
    {
     "data": {
      "text/html": [
       "<div>\n",
       "<style scoped>\n",
       "    .dataframe tbody tr th:only-of-type {\n",
       "        vertical-align: middle;\n",
       "    }\n",
       "\n",
       "    .dataframe tbody tr th {\n",
       "        vertical-align: top;\n",
       "    }\n",
       "\n",
       "    .dataframe thead th {\n",
       "        text-align: right;\n",
       "    }\n",
       "</style>\n",
       "<table border=\"1\" class=\"dataframe\">\n",
       "  <thead>\n",
       "    <tr style=\"text-align: right;\">\n",
       "      <th></th>\n",
       "      <th>gtos_cap_transf_cap_ot_1993_2006</th>\n",
       "      <th>api_min</th>\n",
       "    </tr>\n",
       "    <tr>\n",
       "      <th>indice_tiempo</th>\n",
       "      <th></th>\n",
       "      <th></th>\n",
       "    </tr>\n",
       "  </thead>\n",
       "  <tbody>\n",
       "    <tr>\n",
       "      <th>1993-01-01</th>\n",
       "      <td>5.1</td>\n",
       "      <td>5.1</td>\n",
       "    </tr>\n",
       "    <tr>\n",
       "      <th>1994-01-01</th>\n",
       "      <td>8.7</td>\n",
       "      <td>8.7</td>\n",
       "    </tr>\n",
       "    <tr>\n",
       "      <th>1995-01-01</th>\n",
       "      <td>2.8</td>\n",
       "      <td>2.8</td>\n",
       "    </tr>\n",
       "    <tr>\n",
       "      <th>1996-01-01</th>\n",
       "      <td>3.5</td>\n",
       "      <td>3.5</td>\n",
       "    </tr>\n",
       "    <tr>\n",
       "      <th>1997-01-01</th>\n",
       "      <td>11.6</td>\n",
       "      <td>11.6</td>\n",
       "    </tr>\n",
       "    <tr>\n",
       "      <th>1998-01-01</th>\n",
       "      <td>11.0</td>\n",
       "      <td>11.0</td>\n",
       "    </tr>\n",
       "    <tr>\n",
       "      <th>1999-01-01</th>\n",
       "      <td>3.8</td>\n",
       "      <td>3.8</td>\n",
       "    </tr>\n",
       "    <tr>\n",
       "      <th>2000-01-01</th>\n",
       "      <td>1.2</td>\n",
       "      <td>1.2</td>\n",
       "    </tr>\n",
       "    <tr>\n",
       "      <th>2001-01-01</th>\n",
       "      <td>5.9</td>\n",
       "      <td>5.9</td>\n",
       "    </tr>\n",
       "    <tr>\n",
       "      <th>2002-01-01</th>\n",
       "      <td>0.2</td>\n",
       "      <td>0.2</td>\n",
       "    </tr>\n",
       "    <tr>\n",
       "      <th>2003-01-01</th>\n",
       "      <td>0.7</td>\n",
       "      <td>0.7</td>\n",
       "    </tr>\n",
       "    <tr>\n",
       "      <th>2004-01-01</th>\n",
       "      <td>2.7</td>\n",
       "      <td>2.7</td>\n",
       "    </tr>\n",
       "    <tr>\n",
       "      <th>2005-01-01</th>\n",
       "      <td>4.3</td>\n",
       "      <td>4.3</td>\n",
       "    </tr>\n",
       "    <tr>\n",
       "      <th>2006-01-01</th>\n",
       "      <td>4.8</td>\n",
       "      <td>4.8</td>\n",
       "    </tr>\n",
       "  </tbody>\n",
       "</table>\n",
       "</div>"
      ],
      "text/plain": [
       "               gtos_cap_transf_cap_ot_1993_2006  api_min\n",
       "indice_tiempo                                           \n",
       "1993-01-01                                  5.1      5.1\n",
       "1994-01-01                                  8.7      8.7\n",
       "1995-01-01                                  2.8      2.8\n",
       "1996-01-01                                  3.5      3.5\n",
       "1997-01-01                                 11.6     11.6\n",
       "1998-01-01                                 11.0     11.0\n",
       "1999-01-01                                  3.8      3.8\n",
       "2000-01-01                                  1.2      1.2\n",
       "2001-01-01                                  5.9      5.9\n",
       "2002-01-01                                  0.2      0.2\n",
       "2003-01-01                                  0.7      0.7\n",
       "2004-01-01                                  2.7      2.7\n",
       "2005-01-01                                  4.3      4.3\n",
       "2006-01-01                                  4.8      4.8"
      ]
     },
     "execution_count": 23,
     "metadata": {},
     "output_type": "execute_result"
    }
   ],
   "source": [
    "api_max = api_call(serie, collapse='year', collapse_aggregation='min')\n",
    "api_max['api_min'] = api_max[title]\n",
    "del api_max[title]\n",
    "api_call(serie).resample('AS').apply(min).join(api_max)"
   ]
  },
  {
   "cell_type": "markdown",
   "metadata": {},
   "source": [
    "### Metadata"
   ]
  },
  {
   "cell_type": "code",
   "execution_count": 24,
   "metadata": {},
   "outputs": [
    {
     "data": {
      "text/plain": [
       "catalogo_id                                                               sspm\n",
       "dataset_id                                                                 375\n",
       "distribucion_id                                                          375.4\n",
       "serie_id                                            375.4_GTOS_CAP_T006__32_51\n",
       "indice_tiempo_frecuencia                                                 R/P3M\n",
       "serie_titulo                                  gtos_cap_transf_cap_ot_1993_2006\n",
       "serie_unidades                                               Millones de pesos\n",
       "serie_descripcion            Gastos de capital transferencias de capital ot...\n",
       "distribucion_titulo          Organismos Descentralizados. Valores trimestra...\n",
       "distribucion_descripcion     Esquema Ahorro - Inversión - Financiamiento. O...\n",
       "distribucion_url_descarga    http://infra.datos.gob.ar/catalog/sspm/dataset...\n",
       "dataset_responsable              Subsecretaría de Programación Macroeconómica.\n",
       "dataset_fuente                                          Ministerio de Hacienda\n",
       "dataset_titulo               Esquema Ahorro - Inversión - Financimmiento. O...\n",
       "dataset_descripcion          Organismos Descentralizados. Datos en millones...\n",
       "dataset_tema                                                 Finanzas Públicas\n",
       "serie_indice_inicio                                                 1993-01-01\n",
       "serie_indice_final                                                  2006-10-01\n",
       "serie_valores_cant                                                          56\n",
       "serie_dias_no_cubiertos                                                   4191\n",
       "serie_actualizada                                                        False\n",
       "serie_valor_ultimo                                                         8.5\n",
       "serie_valor_anterior                                                        15\n",
       "serie_var_pct_anterior                                               -0.433333\n",
       "Name: 13333, dtype: object"
      ]
     },
     "execution_count": 24,
     "metadata": {},
     "output_type": "execute_result"
    }
   ],
   "source": [
    "orig_meta = series_metadata.iloc[serie_idx]\n",
    "orig_meta"
   ]
  },
  {
   "cell_type": "code",
   "execution_count": 25,
   "metadata": {},
   "outputs": [],
   "source": [
    "metadata = requests.get(ENDPOINT_URL, params={'ids': serie, 'metadata': 'full'}).json()"
   ]
  },
  {
   "cell_type": "code",
   "execution_count": 26,
   "metadata": {},
   "outputs": [
    {
     "data": {
      "text/plain": [
       "{'frequency': 'quarter', 'start_date': '1993-01-01', 'end_date': '2006-10-01'}"
      ]
     },
     "execution_count": 26,
     "metadata": {},
     "output_type": "execute_result"
    }
   ],
   "source": [
    "# Metadatos del índice de tiempo\n",
    "metadata['meta'][0]"
   ]
  },
  {
   "cell_type": "code",
   "execution_count": 27,
   "metadata": {
    "scrolled": true
   },
   "outputs": [
    {
     "data": {
      "text/plain": [
       "{'catalog': {'publisher': {'mbox': 'datoseconomicos@mecon.gov.ar',\n",
       "   'name': 'Subsecretaría de Programación Macroeconómica.'},\n",
       "  'license': 'Creative Commons Attribution 4.0',\n",
       "  'description': 'Catálogo de datos abiertos de la Subsecretaría de Programación Macroeconómica.',\n",
       "  'language': ['SPA'],\n",
       "  'superThemeTaxonomy': 'http://datos.gob.ar/superThemeTaxonomy.json',\n",
       "  'issued': '2017-09-28',\n",
       "  'rights': '2017-09-28',\n",
       "  'modified': '2017-09-28',\n",
       "  'spatial': 'ARG',\n",
       "  'title': 'Datos Programación Macroeconómica',\n",
       "  'identifier': 'sspm'},\n",
       " 'dataset': {'publisher': {'mbox': 'datoseconomicos@mecon.gov.ar',\n",
       "   'name': 'Subsecretaría de Programación Macroeconómica.'},\n",
       "  'landingPage': 'http://www.minhacienda.gob.ar/secretarias/politica-economica/programacion-macroeconomica/',\n",
       "  'keyword': ['Información Económica al Día', 'Finanzas Públicas'],\n",
       "  'superTheme': ['ECON'],\n",
       "  'title': 'Esquema Ahorro - Inversión - Financimmiento. Organismos Descentralizados. Base Caja.',\n",
       "  'language': ['SPA'],\n",
       "  'issued': '2018-01-09',\n",
       "  'temporal': '1993-01-01/2017-12-01',\n",
       "  'source': 'Ministerio de Hacienda',\n",
       "  'theme': ['fiscal'],\n",
       "  'accrualPeriodicity': 'R/P1M',\n",
       "  'spatial': 'ARG',\n",
       "  'identifier': '375',\n",
       "  'license': 'Creative Commons Attribution 4.0',\n",
       "  'contactPoint': {'fn': 'Subsecretaría de Programación Macroeconómica.'},\n",
       "  'accessLevel': 'ABIERTO',\n",
       "  'description': 'Organismos Descentralizados. Datos en millones de pesos'},\n",
       " 'distribution': {'accessURL': 'https://www.minhacienda.gob.ar/secretarias/politica-economica/programacion-macroeconomica/',\n",
       "  'description': 'Esquema Ahorro - Inversión - Financiamiento. Organismos Descentralizados. Valores trimestrales 1993-2006. En millones de pesos.',\n",
       "  'format': 'CSV',\n",
       "  'dataset_identifier': '375',\n",
       "  'issued': '2018-01-09',\n",
       "  'title': 'Organismos Descentralizados. Valores trimestrales 1993-2006',\n",
       "  'fileName': 'organismos-descentralizados-valores-trimestrales-93-06.csv',\n",
       "  'downloadURL': 'http://infra.datos.gob.ar/catalog/sspm/dataset/375/distribution/375.4/download/organismos-descentralizados-valores-trimestrales-93-06.csv',\n",
       "  'identifier': '375.4',\n",
       "  'scrapingFileURL': 'https://www.economia.gob.ar/download/infoeco/apendice6.xlsx'},\n",
       " 'field': {'distribution_identifier': '375.4',\n",
       "  'description': 'Gastos de capital transferencias de capital otras . Metodología 1993 - 2006',\n",
       "  'title': 'gtos_cap_transf_cap_ot_1993_2006',\n",
       "  'dataset_identifier': '375',\n",
       "  'units': 'Millones de pesos',\n",
       "  'type': 'number',\n",
       "  'id': '375.4_GTOS_CAP_T006__32_51'}}"
      ]
     },
     "execution_count": 27,
     "metadata": {},
     "output_type": "execute_result"
    }
   ],
   "source": [
    "serie_meta = metadata['meta'][1]\n",
    "serie_meta"
   ]
  },
  {
   "cell_type": "markdown",
   "metadata": {},
   "source": [
    "Comprobamos que los metadatos de la API sean iguales a los originales"
   ]
  },
  {
   "cell_type": "code",
   "execution_count": 36,
   "metadata": {},
   "outputs": [],
   "source": [
    "def compare_metadata(serie_meta, original_meta, equivalent_dict_keys):\n",
    "    comparisons = []\n",
    "    for key, value in equivalent_dict_keys.items():\n",
    "        if isinstance(value, dict):\n",
    "            for api_key, original_key in value.items():\n",
    "                print(key, api_key, original_key)\n",
    "                comparison = str(serie_meta[key][api_key]) == str(original_meta[original_key])\n",
    "                comparisons.append(\n",
    "                    '{} {} == {}: {} ({} {})'.format(key, api_key, original_key, comparison, serie_meta[key][api_key], original_meta[original_key]))\n",
    "    return comparisons\n",
    "    "
   ]
  },
  {
   "cell_type": "code",
   "execution_count": 39,
   "metadata": {},
   "outputs": [
    {
     "name": "stdout",
     "output_type": "stream",
     "text": [
      "catalog identifier catalogo_id\n",
      "dataset identifier dataset_id\n",
      "dataset accrualPeriodicity indice_tiempo_frecuencia\n",
      "distribution identifier distribucion_id\n",
      "field id serie_id\n"
     ]
    },
    {
     "data": {
      "text/plain": [
       "['catalog identifier == catalogo_id: True (sspm sspm)',\n",
       " 'dataset identifier == dataset_id: True (375 375)',\n",
       " 'dataset accrualPeriodicity == indice_tiempo_frecuencia: False (R/P1M R/P3M)',\n",
       " 'distribution identifier == distribucion_id: True (375.4 375.4)',\n",
       " 'field id == serie_id: True (375.4_GTOS_CAP_T006__32_51 375.4_GTOS_CAP_T006__32_51)']"
      ]
     },
     "execution_count": 39,
     "metadata": {},
     "output_type": "execute_result"
    }
   ],
   "source": [
    "keys = {\n",
    "    'catalog': {\n",
    "        'identifier': 'catalogo_id',\n",
    "    },\n",
    "    'dataset': {\n",
    "        'identifier': 'dataset_id',\n",
    "    },\n",
    "    'distribution': {\n",
    "        'identifier': 'distribucion_id',\n",
    "        'accrualPeriodicity': 'indice_tiempo_frecuencia',\n",
    "    },\n",
    "    'field': {\n",
    "        'id': 'serie_id',\n",
    "    },\n",
    "}\n",
    "\n",
    "compare_metadata(serie_meta, orig_meta, keys)"
   ]
  }
 ],
 "metadata": {
  "kernelspec": {
   "display_name": "Python 3",
   "language": "python",
   "name": "python3"
  },
  "language_info": {
   "codemirror_mode": {
    "name": "ipython",
    "version": 3
   },
   "file_extension": ".py",
   "mimetype": "text/x-python",
   "name": "python",
   "nbconvert_exporter": "python",
   "pygments_lexer": "ipython3",
   "version": "3.6.5"
  }
 },
 "nbformat": 4,
 "nbformat_minor": 2
}
